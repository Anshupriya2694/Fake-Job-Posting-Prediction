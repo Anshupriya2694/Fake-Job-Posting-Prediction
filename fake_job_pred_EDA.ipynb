{
 "cells": [
  {
   "cell_type": "code",
   "execution_count": 2,
   "metadata": {},
   "outputs": [],
   "source": [
    "import pandas as pd\n",
    "import matplotlib.pyplot as plt\n",
    "import numpy as np\n",
    "import seaborn as sns"
   ]
  },
  {
   "cell_type": "code",
   "execution_count": 48,
   "metadata": {},
   "outputs": [],
   "source": [
    "fake_job_postings = pd.read_csv('data/fake_job_postings.csv')"
   ]
  },
  {
   "cell_type": "code",
   "execution_count": 7,
   "metadata": {},
   "outputs": [
    {
     "data": {
      "text/html": [
       "<div>\n",
       "<style scoped>\n",
       "    .dataframe tbody tr th:only-of-type {\n",
       "        vertical-align: middle;\n",
       "    }\n",
       "\n",
       "    .dataframe tbody tr th {\n",
       "        vertical-align: top;\n",
       "    }\n",
       "\n",
       "    .dataframe thead th {\n",
       "        text-align: right;\n",
       "    }\n",
       "</style>\n",
       "<table border=\"1\" class=\"dataframe\">\n",
       "  <thead>\n",
       "    <tr style=\"text-align: right;\">\n",
       "      <th></th>\n",
       "      <th>job_id</th>\n",
       "      <th>title</th>\n",
       "      <th>location</th>\n",
       "      <th>department</th>\n",
       "      <th>salary_range</th>\n",
       "      <th>company_profile</th>\n",
       "      <th>description</th>\n",
       "      <th>requirements</th>\n",
       "      <th>benefits</th>\n",
       "      <th>telecommuting</th>\n",
       "      <th>has_company_logo</th>\n",
       "      <th>has_questions</th>\n",
       "      <th>employment_type</th>\n",
       "      <th>required_experience</th>\n",
       "      <th>required_education</th>\n",
       "      <th>industry</th>\n",
       "      <th>function</th>\n",
       "      <th>fraudulent</th>\n",
       "    </tr>\n",
       "  </thead>\n",
       "  <tbody>\n",
       "    <tr>\n",
       "      <th>0</th>\n",
       "      <td>1</td>\n",
       "      <td>Marketing Intern</td>\n",
       "      <td>US, NY, New York</td>\n",
       "      <td>Marketing</td>\n",
       "      <td>NaN</td>\n",
       "      <td>We're Food52, and we've created a groundbreaki...</td>\n",
       "      <td>Food52, a fast-growing, James Beard Award-winn...</td>\n",
       "      <td>Experience with content management systems a m...</td>\n",
       "      <td>NaN</td>\n",
       "      <td>0</td>\n",
       "      <td>1</td>\n",
       "      <td>0</td>\n",
       "      <td>Other</td>\n",
       "      <td>Internship</td>\n",
       "      <td>NaN</td>\n",
       "      <td>NaN</td>\n",
       "      <td>Marketing</td>\n",
       "      <td>0</td>\n",
       "    </tr>\n",
       "    <tr>\n",
       "      <th>1</th>\n",
       "      <td>2</td>\n",
       "      <td>Customer Service - Cloud Video Production</td>\n",
       "      <td>NZ, , Auckland</td>\n",
       "      <td>Success</td>\n",
       "      <td>NaN</td>\n",
       "      <td>90 Seconds, the worlds Cloud Video Production ...</td>\n",
       "      <td>Organised - Focused - Vibrant - Awesome!Do you...</td>\n",
       "      <td>What we expect from you:Your key responsibilit...</td>\n",
       "      <td>What you will get from usThrough being part of...</td>\n",
       "      <td>0</td>\n",
       "      <td>1</td>\n",
       "      <td>0</td>\n",
       "      <td>Full-time</td>\n",
       "      <td>Not Applicable</td>\n",
       "      <td>NaN</td>\n",
       "      <td>Marketing and Advertising</td>\n",
       "      <td>Customer Service</td>\n",
       "      <td>0</td>\n",
       "    </tr>\n",
       "    <tr>\n",
       "      <th>2</th>\n",
       "      <td>3</td>\n",
       "      <td>Commissioning Machinery Assistant (CMA)</td>\n",
       "      <td>US, IA, Wever</td>\n",
       "      <td>NaN</td>\n",
       "      <td>NaN</td>\n",
       "      <td>Valor Services provides Workforce Solutions th...</td>\n",
       "      <td>Our client, located in Houston, is actively se...</td>\n",
       "      <td>Implement pre-commissioning and commissioning ...</td>\n",
       "      <td>NaN</td>\n",
       "      <td>0</td>\n",
       "      <td>1</td>\n",
       "      <td>0</td>\n",
       "      <td>NaN</td>\n",
       "      <td>NaN</td>\n",
       "      <td>NaN</td>\n",
       "      <td>NaN</td>\n",
       "      <td>NaN</td>\n",
       "      <td>0</td>\n",
       "    </tr>\n",
       "    <tr>\n",
       "      <th>3</th>\n",
       "      <td>4</td>\n",
       "      <td>Account Executive - Washington DC</td>\n",
       "      <td>US, DC, Washington</td>\n",
       "      <td>Sales</td>\n",
       "      <td>NaN</td>\n",
       "      <td>Our passion for improving quality of life thro...</td>\n",
       "      <td>THE COMPANY: ESRI – Environmental Systems Rese...</td>\n",
       "      <td>EDUCATION: Bachelor’s or Master’s in GIS, busi...</td>\n",
       "      <td>Our culture is anything but corporate—we have ...</td>\n",
       "      <td>0</td>\n",
       "      <td>1</td>\n",
       "      <td>0</td>\n",
       "      <td>Full-time</td>\n",
       "      <td>Mid-Senior level</td>\n",
       "      <td>Bachelor's Degree</td>\n",
       "      <td>Computer Software</td>\n",
       "      <td>Sales</td>\n",
       "      <td>0</td>\n",
       "    </tr>\n",
       "    <tr>\n",
       "      <th>4</th>\n",
       "      <td>5</td>\n",
       "      <td>Bill Review Manager</td>\n",
       "      <td>US, FL, Fort Worth</td>\n",
       "      <td>NaN</td>\n",
       "      <td>NaN</td>\n",
       "      <td>SpotSource Solutions LLC is a Global Human Cap...</td>\n",
       "      <td>JOB TITLE: Itemization Review ManagerLOCATION:...</td>\n",
       "      <td>QUALIFICATIONS:RN license in the State of Texa...</td>\n",
       "      <td>Full Benefits Offered</td>\n",
       "      <td>0</td>\n",
       "      <td>1</td>\n",
       "      <td>1</td>\n",
       "      <td>Full-time</td>\n",
       "      <td>Mid-Senior level</td>\n",
       "      <td>Bachelor's Degree</td>\n",
       "      <td>Hospital &amp; Health Care</td>\n",
       "      <td>Health Care Provider</td>\n",
       "      <td>0</td>\n",
       "    </tr>\n",
       "  </tbody>\n",
       "</table>\n",
       "</div>"
      ],
      "text/plain": [
       "   job_id                                      title            location  \\\n",
       "0       1                           Marketing Intern    US, NY, New York   \n",
       "1       2  Customer Service - Cloud Video Production      NZ, , Auckland   \n",
       "2       3    Commissioning Machinery Assistant (CMA)       US, IA, Wever   \n",
       "3       4          Account Executive - Washington DC  US, DC, Washington   \n",
       "4       5                        Bill Review Manager  US, FL, Fort Worth   \n",
       "\n",
       "  department salary_range                                    company_profile  \\\n",
       "0  Marketing          NaN  We're Food52, and we've created a groundbreaki...   \n",
       "1    Success          NaN  90 Seconds, the worlds Cloud Video Production ...   \n",
       "2        NaN          NaN  Valor Services provides Workforce Solutions th...   \n",
       "3      Sales          NaN  Our passion for improving quality of life thro...   \n",
       "4        NaN          NaN  SpotSource Solutions LLC is a Global Human Cap...   \n",
       "\n",
       "                                         description  \\\n",
       "0  Food52, a fast-growing, James Beard Award-winn...   \n",
       "1  Organised - Focused - Vibrant - Awesome!Do you...   \n",
       "2  Our client, located in Houston, is actively se...   \n",
       "3  THE COMPANY: ESRI – Environmental Systems Rese...   \n",
       "4  JOB TITLE: Itemization Review ManagerLOCATION:...   \n",
       "\n",
       "                                        requirements  \\\n",
       "0  Experience with content management systems a m...   \n",
       "1  What we expect from you:Your key responsibilit...   \n",
       "2  Implement pre-commissioning and commissioning ...   \n",
       "3  EDUCATION: Bachelor’s or Master’s in GIS, busi...   \n",
       "4  QUALIFICATIONS:RN license in the State of Texa...   \n",
       "\n",
       "                                            benefits  telecommuting  \\\n",
       "0                                                NaN              0   \n",
       "1  What you will get from usThrough being part of...              0   \n",
       "2                                                NaN              0   \n",
       "3  Our culture is anything but corporate—we have ...              0   \n",
       "4                              Full Benefits Offered              0   \n",
       "\n",
       "   has_company_logo  has_questions employment_type required_experience  \\\n",
       "0                 1              0           Other          Internship   \n",
       "1                 1              0       Full-time      Not Applicable   \n",
       "2                 1              0             NaN                 NaN   \n",
       "3                 1              0       Full-time    Mid-Senior level   \n",
       "4                 1              1       Full-time    Mid-Senior level   \n",
       "\n",
       "  required_education                   industry              function  \\\n",
       "0                NaN                        NaN             Marketing   \n",
       "1                NaN  Marketing and Advertising      Customer Service   \n",
       "2                NaN                        NaN                   NaN   \n",
       "3  Bachelor's Degree          Computer Software                 Sales   \n",
       "4  Bachelor's Degree     Hospital & Health Care  Health Care Provider   \n",
       "\n",
       "   fraudulent  \n",
       "0           0  \n",
       "1           0  \n",
       "2           0  \n",
       "3           0  \n",
       "4           0  "
      ]
     },
     "execution_count": 7,
     "metadata": {},
     "output_type": "execute_result"
    }
   ],
   "source": [
    "fake_job_postings.head()"
   ]
  },
  {
   "cell_type": "code",
   "execution_count": 22,
   "metadata": {},
   "outputs": [
    {
     "data": {
      "image/png": "[encoded data removed]",
      "text/plain": [
       "<Figure size 432x288 with 1 Axes>"
      ]
     },
     "metadata": {
      "needs_background": "light"
     },
     "output_type": "display_data"
    }
   ],
   "source": [
    "sns.countplot(x=\"fraudulent\", data=fake_job_postings)\n",
    "plt.show()"
   ]
  },
  {
   "cell_type": "code",
   "execution_count": 39,
   "metadata": {},
   "outputs": [
    {
     "data": {
      "image/png": "[encoded data removed]",
      "text/plain": [
       "<Figure size 432x288 with 1 Axes>"
      ]
     },
     "metadata": {
      "needs_background": "light"
     },
     "output_type": "display_data"
    }
   ],
   "source": [
    "sns.countplot(x=\"location\", data=fake_job_postings, hue=\"fraudulent\",\n",
    "              order=fake_job_postings.location.value_counts().iloc[:10].index)\n",
    "plt.xticks(rotation=90)\n",
    "plt.title('Location Fake Jobs')\n",
    "plt.show()"
   ]
  },
  {
   "cell_type": "code",
   "execution_count": 40,
   "metadata": {},
   "outputs": [
    {
     "data": {
      "image/png": "[encoded data removed]",
      "text/plain": [
       "<Figure size 432x288 with 1 Axes>"
      ]
     },
     "metadata": {
      "needs_background": "light"
     },
     "output_type": "display_data"
    }
   ],
   "source": [
    "sns.countplot(x=\"department\", data=fake_job_postings, hue=\"fraudulent\",\n",
    "              order=fake_job_postings.department.value_counts().iloc[:10].index)\n",
    "plt.xticks(rotation=90)\n",
    "plt.title('Fraudulent based on Department')\n",
    "plt.show()"
   ]
  },
  {
   "cell_type": "code",
   "execution_count": 42,
   "metadata": {},
   "outputs": [
    {
     "data": {
      "image/png": "[encoded data removed]",
      "text/plain": [
       "<Figure size 432x288 with 1 Axes>"
      ]
     },
     "metadata": {
      "needs_background": "light"
     },
     "output_type": "display_data"
    }
   ],
   "source": [
    "sns.countplot(x=\"has_company_logo\", data=fake_job_postings, hue=\"fraudulent\",\n",
    "              order=fake_job_postings.has_company_logo.value_counts().iloc[:10].index)\n",
    "plt.show()"
   ]
  },
  {
   "cell_type": "code",
   "execution_count": 43,
   "metadata": {},
   "outputs": [
    {
     "data": {
      "image/png": "[encoded data removed]",
      "text/plain": [
       "<Figure size 432x288 with 1 Axes>"
      ]
     },
     "metadata": {
      "needs_background": "light"
     },
     "output_type": "display_data"
    }
   ],
   "source": [
    "sns.countplot(x=\"employment_type\", data=fake_job_postings, hue=\"fraudulent\",\n",
    "              order=fake_job_postings.employment_type.value_counts().iloc[:10].index)\n",
    "plt.xticks(rotation=90)\n",
    "plt.show()"
   ]
  },
  {
   "cell_type": "code",
   "execution_count": 44,
   "metadata": {},
   "outputs": [
    {
     "data": {
      "image/png": "[encoded data removed]",
      "text/plain": [
       "<Figure size 432x288 with 1 Axes>"
      ]
     },
     "metadata": {
      "needs_background": "light"
     },
     "output_type": "display_data"
    }
   ],
   "source": [
    "sns.countplot(x=\"required_education\", data=fake_job_postings, hue=\"fraudulent\", \n",
    "              order=fake_job_postings.required_education.value_counts().iloc[:10].index)\n",
    "plt.xticks(rotation=90)\n",
    "plt.show()"
   ]
  },
  {
   "cell_type": "code",
   "execution_count": 45,
   "metadata": {},
   "outputs": [
    {
     "data": {
      "image/png": "[encoded data removed]",
      "text/plain": [
       "<Figure size 432x288 with 1 Axes>"
      ]
     },
     "metadata": {
      "needs_background": "light"
     },
     "output_type": "display_data"
    }
   ],
   "source": [
    "sns.countplot(x=\"required_experience\", data=fake_job_postings, hue=\"fraudulent\",\n",
    "              order=fake_job_postings.required_experience.value_counts().iloc[:10].index)\n",
    "plt.xticks(rotation=90)\n",
    "plt.show()"
   ]
  },
  {
   "cell_type": "code",
   "execution_count": 47,
   "metadata": {},
   "outputs": [
    {
     "data": {
      "image/png": "[encoded data removed]",
      "text/plain": [
       "<Figure size 432x288 with 1 Axes>"
      ]
     },
     "metadata": {
      "needs_background": "light"
     },
     "output_type": "display_data"
    }
   ],
   "source": [
    "sns.countplot(x=\"function\", data=fake_job_postings, hue=\"fraudulent\",\n",
    "              order=fake_job_postings.function.value_counts().iloc[:10].index)\n",
    "plt.xticks(rotation=90)\n",
    "plt.show()"
   ]
  },
  {
   "cell_type": "code",
   "execution_count": 53,
   "metadata": {},
   "outputs": [],
   "source": [
    "import json\n",
    "from difflib import get_close_matches\n",
    "\n",
    "dictionary_data = json.load(open('data/data.json'))"
   ]
  },
  {
   "cell_type": "code",
   "execution_count": 55,
   "metadata": {},
   "outputs": [
    {
     "data": {
      "text/plain": [
       "Index(['job_id', 'title', 'location', 'department', 'salary_range',\n",
       "       'company_profile', 'description', 'requirements', 'benefits',\n",
       "       'telecommuting', 'has_company_logo', 'has_questions', 'employment_type',\n",
       "       'required_experience', 'required_education', 'industry', 'function',\n",
       "       'fraudulent'],\n",
       "      dtype='object')"
      ]
     },
     "execution_count": 55,
     "metadata": {},
     "output_type": "execute_result"
    }
   ],
   "source": [
    "fake_job_postings.columns"
   ]
  },
  {
   "cell_type": "code",
   "execution_count": 57,
   "metadata": {},
   "outputs": [
    {
     "data": {
      "text/plain": [
       "\"We're Food52, and we've created a groundbreaking and award-winning cooking site. We support, connect, and celebrate home cooks, and give them everything they need in one place.We have a top editorial, business, and engineering team. We're focused on using technology to find new and better ways to connect people around their specific food interests, and to offer them superb, highly curated information about food and cooking. We attract the most talented home cooks and contributors in the country; we also publish well-known professionals like Mario Batali, Gwyneth Paltrow, and Danny Meyer. And we have partnerships with Whole Foods Market and Random House.Food52 has been named the best food website by the James Beard Foundation and IACP, and has been featured in the New York Times, NPR, Pando Daily, TechCrunch, and on the Today Show.We're located in Chelsea, in New York City.\""
      ]
     },
     "execution_count": 57,
     "metadata": {},
     "output_type": "execute_result"
    }
   ],
   "source": [
    "fake_job_postings.company_profile[0]"
   ]
  },
  {
   "cell_type": "code",
   "execution_count": 297,
   "metadata": {},
   "outputs": [],
   "source": [
    "import re\n",
    "import nltk\n",
    "\n",
    "review1 = fake_job_postings.company_profile[0]\n",
    "\n",
    "review1 = review1.replace(\".\", \"\")\n",
    "review1 = review1.replace(\"-\", \" \")\n",
    "review1 = review1.replace(\",\", \"\")\n",
    "review1 = review1.replace(\";\", \"\")\n",
    "#review1 = review1.replace(\"'\", \"\")\n",
    "find_apostrophe = review1.find(\"'\")\n",
    "pattern = r'[0-9]'\n",
    "review1 = re.sub(pattern, '', review1)\n",
    "review1 = review1.lower()\n"
   ]
  },
  {
   "cell_type": "code",
   "execution_count": 298,
   "metadata": {},
   "outputs": [
    {
     "data": {
      "text/plain": [
       "\"we're food and we've created a groundbreaking and award winning cooking site we support connect and celebrate home cooks and give them everything they need in one placewe have a top editorial business and engineering team we're focused on using technology to find new and better ways to connect people around their specific food interests and to offer them superb highly curated information about food and cooking we attract the most talented home cooks and contributors in the country we also publish well known professionals like mario batali gwyneth paltrow and danny meyer and we have partnerships with whole foods market and random housefood has been named the best food website by the james beard foundation and iacp and has been featured in the new york times npr pando daily techcrunch and on the today showwe're located in chelsea in new york city\""
      ]
     },
     "execution_count": 298,
     "metadata": {},
     "output_type": "execute_result"
    }
   ],
   "source": [
    "review1"
   ]
  },
  {
   "cell_type": "code",
   "execution_count": 288,
   "metadata": {},
   "outputs": [
    {
     "data": {
      "text/plain": [
       "2"
      ]
     },
     "execution_count": 288,
     "metadata": {},
     "output_type": "execute_result"
    }
   ],
   "source": [
    "find_apostrophe"
   ]
  },
  {
   "cell_type": "code",
   "execution_count": 276,
   "metadata": {},
   "outputs": [],
   "source": [
    "tagged_sentence = nltk.tag.pos_tag(review1.split())\n",
    "#tagged_sentence\n",
    "#edited_sentence = [word for word,tag in tagged_sentence if tag != 'NN' and tag!= 'NNS' and tag!='JJ']\n",
    "edited_sentence = [word for word,tag in tagged_sentence]"
   ]
  },
  {
   "cell_type": "code",
   "execution_count": 277,
   "metadata": {
    "scrolled": true
   },
   "outputs": [
    {
     "data": {
      "text/plain": [
       "[('were', 'VBD'),\n",
       " ('food', 'NN'),\n",
       " ('and', 'CC'),\n",
       " ('weve', 'NN'),\n",
       " ('created', 'VBD'),\n",
       " ('a', 'DT'),\n",
       " ('groundbreaking', 'NN'),\n",
       " ('and', 'CC'),\n",
       " ('award', 'NN'),\n",
       " ('winning', 'VBG'),\n",
       " ('cooking', 'VBG'),\n",
       " ('site', 'NN'),\n",
       " ('we', 'PRP'),\n",
       " ('support', 'VBP'),\n",
       " ('connect', 'JJ'),\n",
       " ('and', 'CC'),\n",
       " ('celebrate', 'JJ'),\n",
       " ('home', 'NN'),\n",
       " ('cooks', 'NNS'),\n",
       " ('and', 'CC'),\n",
       " ('give', 'VB'),\n",
       " ('them', 'PRP'),\n",
       " ('everything', 'NN'),\n",
       " ('they', 'PRP'),\n",
       " ('need', 'VBP'),\n",
       " ('in', 'IN'),\n",
       " ('one', 'CD'),\n",
       " ('place', 'NN'),\n",
       " ('we', 'PRP'),\n",
       " ('have', 'VBP'),\n",
       " ('a', 'DT'),\n",
       " ('top', 'JJ'),\n",
       " ('editorial', 'NN'),\n",
       " ('business', 'NN'),\n",
       " ('and', 'CC'),\n",
       " ('engineering', 'NN'),\n",
       " ('team', 'NN'),\n",
       " ('were', 'VBD'),\n",
       " ('focused', 'VBN'),\n",
       " ('on', 'IN'),\n",
       " ('using', 'VBG'),\n",
       " ('technology', 'NN'),\n",
       " ('to', 'TO'),\n",
       " ('find', 'VB'),\n",
       " ('new', 'JJ'),\n",
       " ('and', 'CC'),\n",
       " ('better', 'JJR'),\n",
       " ('ways', 'NNS'),\n",
       " ('to', 'TO'),\n",
       " ('connect', 'VB'),\n",
       " ('people', 'NNS'),\n",
       " ('around', 'IN'),\n",
       " ('their', 'PRP$'),\n",
       " ('specific', 'JJ'),\n",
       " ('food', 'NN'),\n",
       " ('interests', 'NNS'),\n",
       " ('and', 'CC'),\n",
       " ('to', 'TO'),\n",
       " ('offer', 'VB'),\n",
       " ('them', 'PRP'),\n",
       " ('superb', 'VB'),\n",
       " ('highly', 'RB'),\n",
       " ('curated', 'VBN'),\n",
       " ('information', 'NN'),\n",
       " ('about', 'IN'),\n",
       " ('food', 'NN'),\n",
       " ('and', 'CC'),\n",
       " ('cooking', 'NN'),\n",
       " ('we', 'PRP'),\n",
       " ('attract', 'VBP'),\n",
       " ('the', 'DT'),\n",
       " ('most', 'RBS'),\n",
       " ('talented', 'JJ'),\n",
       " ('home', 'NN'),\n",
       " ('cooks', 'NNS'),\n",
       " ('and', 'CC'),\n",
       " ('contributors', 'NNS'),\n",
       " ('in', 'IN'),\n",
       " ('the', 'DT'),\n",
       " ('country', 'NN'),\n",
       " ('we', 'PRP'),\n",
       " ('also', 'RB'),\n",
       " ('publish', 'VBP'),\n",
       " ('well', 'RB'),\n",
       " ('known', 'VBN'),\n",
       " ('professionals', 'NNS'),\n",
       " ('like', 'IN'),\n",
       " ('mario', 'NN'),\n",
       " ('batali', 'NN'),\n",
       " ('gwyneth', 'NN'),\n",
       " ('paltrow', 'NN'),\n",
       " ('and', 'CC'),\n",
       " ('danny', 'JJ'),\n",
       " ('meyer', 'NN'),\n",
       " ('and', 'CC'),\n",
       " ('we', 'PRP'),\n",
       " ('have', 'VBP'),\n",
       " ('partnerships', 'NNS'),\n",
       " ('with', 'IN'),\n",
       " ('whole', 'JJ'),\n",
       " ('foods', 'NNS'),\n",
       " ('market', 'NN'),\n",
       " ('and', 'CC'),\n",
       " ('random', 'NN'),\n",
       " ('house', 'NN'),\n",
       " ('food', 'NN'),\n",
       " ('has', 'VBZ'),\n",
       " ('been', 'VBN'),\n",
       " ('named', 'VBN'),\n",
       " ('the', 'DT'),\n",
       " ('best', 'JJS'),\n",
       " ('food', 'NN'),\n",
       " ('website', 'NN'),\n",
       " ('by', 'IN'),\n",
       " ('the', 'DT'),\n",
       " ('james', 'NNS'),\n",
       " ('beard', 'VBP'),\n",
       " ('foundation', 'NN'),\n",
       " ('and', 'CC'),\n",
       " ('iacp', 'NN'),\n",
       " ('and', 'CC'),\n",
       " ('has', 'VBZ'),\n",
       " ('been', 'VBN'),\n",
       " ('featured', 'VBN'),\n",
       " ('in', 'IN'),\n",
       " ('the', 'DT'),\n",
       " ('new', 'JJ'),\n",
       " ('york', 'NN'),\n",
       " ('times', 'NNS'),\n",
       " ('npr', 'JJ'),\n",
       " ('pando', 'JJ'),\n",
       " ('daily', 'JJ'),\n",
       " ('techcrunch', 'NN'),\n",
       " ('and', 'CC'),\n",
       " ('on', 'IN'),\n",
       " ('the', 'DT'),\n",
       " ('today', 'NN'),\n",
       " ('show', 'VBP'),\n",
       " ('were', 'VBD'),\n",
       " ('located', 'VBN'),\n",
       " ('in', 'IN'),\n",
       " ('chelsea', 'NN'),\n",
       " ('in', 'IN'),\n",
       " ('new', 'JJ'),\n",
       " ('york', 'NN'),\n",
       " ('city', 'NN')]"
      ]
     },
     "execution_count": 277,
     "metadata": {},
     "output_type": "execute_result"
    }
   ],
   "source": [
    "tagged_sentence"
   ]
  },
  {
   "cell_type": "code",
   "execution_count": 278,
   "metadata": {},
   "outputs": [],
   "source": [
    "#edited_sentence"
   ]
  },
  {
   "cell_type": "code",
   "execution_count": 279,
   "metadata": {},
   "outputs": [
    {
     "name": "stdout",
     "output_type": "stream",
     "text": [
      "were\n",
      "weve\n",
      "created\n",
      "groundbreaking\n",
      "site\n",
      "cooks\n",
      "were\n",
      "focused\n",
      "using\n",
      "ways\n",
      "interests\n",
      "superb\n",
      "curated\n",
      "most\n",
      "cooks\n",
      "contributors\n",
      "professionals\n",
      "mario\n",
      "batali\n",
      "gwyneth\n",
      "paltrow\n",
      "danny\n",
      "meyer\n",
      "partnerships\n",
      "foods\n",
      "been\n",
      "named\n",
      "website\n",
      "james\n",
      "iacp\n",
      "been\n",
      "featured\n",
      "york\n",
      "npr\n",
      "pando\n",
      "techcrunch\n",
      "were\n",
      "located\n",
      "chelsea\n",
      "york\n",
      "40\n"
     ]
    }
   ],
   "source": [
    "count = 0\n",
    "for word in edited_sentence:\n",
    "    if word not in dictionary_data:\n",
    "        print(word)\n",
    "        count+=1\n",
    "        \n",
    "print(count)"
   ]
  },
  {
   "cell_type": "code",
   "execution_count": null,
   "metadata": {},
   "outputs": [],
   "source": []
  }
 ],
 "metadata": {
  "kernelspec": {
   "display_name": "Python 3",
   "language": "python",
   "name": "python3"
  },
  "language_info": {
   "codemirror_mode": {
    "name": "ipython",
    "version": 3
   },
   "file_extension": ".py",
   "mimetype": "text/x-python",
   "name": "python",
   "nbconvert_exporter": "python",
   "pygments_lexer": "ipython3",
   "version": "3.7.3"
  }
 },
 "nbformat": 4,
 "nbformat_minor": 2
}
